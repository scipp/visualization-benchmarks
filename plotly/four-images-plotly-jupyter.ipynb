{
 "cells": [
  {
   "cell_type": "code",
   "execution_count": null,
   "id": "d24b6d44-b504-4f71-8390-7fe9c17d2ed8",
   "metadata": {},
   "outputs": [],
   "source": [
    "import plotly.graph_objects as go\n",
    "import numpy as np\n",
    "import matplotlib as mpl\n",
    "import ipywidgets as ipw\n",
    "\n",
    "\n",
    "\n",
    "N = 512\n",
    "cmap = mpl.colormaps['viridis']\n",
    "data = (cmap(np.random.random((100, N, N)))[..., :3] * 255).astype(int)"
   ]
  },
  {
   "cell_type": "code",
   "execution_count": null,
   "id": "dd20157b-65db-4fb2-a816-0812a2082161",
   "metadata": {},
   "outputs": [],
   "source": [
    "fig = go.FigureWidget(make_subplots(2, 2))\n",
    "fig.update_layout(height=800, width=900)\n",
    "\n",
    "images = [\n",
    "            go.Image(z=data[0]),\n",
    "            go.Image(z=data[0]),\n",
    "            go.Image(z=data[0]),\n",
    "            go.Image(z=data[0]),\n",
    "        ]\n",
    "\n",
    "fig.add_trace(images[0], 1, 1)\n",
    "fig.add_trace(images[0], 2, 1)\n",
    "fig.add_trace(images[0], 1, 2)\n",
    "fig.add_trace(images[0], 2, 2)\n",
    "\n",
    "sl = ipw.IntSlider(min=0, max=data.shape[0] - 1, layout={\"width\": \"700px\"})\n",
    "\n",
    "def update(change):\n",
    "    for trace in fig.data:\n",
    "        trace.z = data[change[\"new\"]]\n",
    "\n",
    "sl.observe(update, names='value')\n",
    "\n",
    "ipw.VBox([fig, sl])"
   ]
  }
 ],
 "metadata": {
  "kernelspec": {
   "display_name": "Python 3 (ipykernel)",
   "language": "python",
   "name": "python3"
  },
  "language_info": {
   "codemirror_mode": {
    "name": "ipython",
    "version": 3
   },
   "file_extension": ".py",
   "mimetype": "text/x-python",
   "name": "python",
   "nbconvert_exporter": "python",
   "pygments_lexer": "ipython3",
   "version": "3.11.9"
  }
 },
 "nbformat": 4,
 "nbformat_minor": 5
}
