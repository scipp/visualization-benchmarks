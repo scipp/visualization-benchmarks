{
 "cells": [
  {
   "cell_type": "code",
   "execution_count": null,
   "id": "ca82daeb-d47d-4a82-b8e0-7ea0f8f5f865",
   "metadata": {},
   "outputs": [],
   "source": [
    "import numpy as np\n",
    "import pythreejs as p3\n",
    "import ipywidgets as ipw\n",
    "import matplotlib as mpl"
   ]
  },
  {
   "cell_type": "code",
   "execution_count": null,
   "id": "c4bc8b08-6484-47e1-981e-e3aa9cc102c8",
   "metadata": {},
   "outputs": [],
   "source": [
    "N = 1024\n",
    "\n",
    "cmap = mpl.colormaps['viridis']\n",
    "data = cmap(np.random.random((100, N, N)))[..., :3].astype('float32')"
   ]
  },
  {
   "cell_type": "code",
   "execution_count": null,
   "id": "a3c393de-518a-44f7-8d49-41d56f83a61c",
   "metadata": {},
   "outputs": [],
   "source": [
    "images = []\n",
    "renderers = []\n",
    "\n",
    "\n",
    "for a in range(4):\n",
    "\n",
    "    extent = [0, N, 0, N]\n",
    "    texture = p3.DataTexture(\n",
    "        data=data[0],\n",
    "        format=\"RGBFormat\",\n",
    "        type=\"FloatType\",\n",
    "    )\n",
    "\n",
    "    geometry = p3.PlaneGeometry(width=extent[1] - extent[0],\n",
    "                                      height=extent[3] - extent[2],\n",
    "                                      widthSegments=1,\n",
    "                                      heightSegments=1)\n",
    "\n",
    "    images.append(p3.Mesh(geometry=geometry,\n",
    "                          material=p3.MeshBasicMaterial(map=texture),\n",
    "                          position=[\n",
    "                              0,\n",
    "                              0,\n",
    "                              0\n",
    "                          ]))\n",
    "\n",
    "    camera = p3.OrthographicCamera(-0.5*N, 0.5*N, 0.5*N, -0.5*N, -1, 300)\n",
    "    \n",
    "    scene = p3.Scene(\n",
    "        children=[camera, images[-1]],\n",
    "        background=\"#DDDDDD\")\n",
    "    \n",
    "    controls = p3.OrbitControls(controlling=camera)\n",
    "    renderers.append(p3.Renderer(camera=camera,\n",
    "                                scene=scene,\n",
    "                                controls=[controls],\n",
    "                                width=400,\n",
    "                                height=400,\n",
    "                          ))"
   ]
  },
  {
   "cell_type": "code",
   "execution_count": null,
   "id": "9489e32c-203e-45a1-8ed7-8a25792e5e2b",
   "metadata": {},
   "outputs": [],
   "source": [
    "sl = ipw.IntSlider(min=0, max=data.shape[0] - 1, layout={\"width\": \"700px\"})\n",
    "\n",
    "def update(change):\n",
    "    for im in images:\n",
    "        im.material.map.data = data[change[\"new\"]]\n",
    "\n",
    "sl.observe(update, names='value')"
   ]
  },
  {
   "cell_type": "code",
   "execution_count": null,
   "id": "48f8461b-fa01-4046-9842-5bf08de77d08",
   "metadata": {},
   "outputs": [],
   "source": [
    "grid = ipw.VBox([ipw.HBox([renderers[0], renderers[1]]),\n",
    "                 ipw.HBox([renderers[2], renderers[3]]),\n",
    "                sl])\n",
    "grid"
   ]
  }
 ],
 "metadata": {
  "kernelspec": {
   "display_name": "Python 3 (ipykernel)",
   "language": "python",
   "name": "python3"
  },
  "language_info": {
   "codemirror_mode": {
    "name": "ipython",
    "version": 3
   },
   "file_extension": ".py",
   "mimetype": "text/x-python",
   "name": "python",
   "nbconvert_exporter": "python",
   "pygments_lexer": "ipython3",
   "version": "3.11.9"
  }
 },
 "nbformat": 4,
 "nbformat_minor": 5
}
