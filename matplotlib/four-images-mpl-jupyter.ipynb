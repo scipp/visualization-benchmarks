{
 "cells": [
  {
   "cell_type": "code",
   "execution_count": null,
   "id": "fb6e706f-d832-4b7f-9020-337c628236d2",
   "metadata": {},
   "outputs": [],
   "source": [
    "%matplotlib widget\n",
    "\n",
    "import matplotlib.pyplot as plt\n",
    "import numpy as np\n",
    "import ipywidgets as ipw\n",
    "\n",
    "\n",
    "\n",
    "N = 1024\n",
    "data = np.random.random((100, N, N))"
   ]
  },
  {
   "cell_type": "code",
   "execution_count": null,
   "id": "1c1ee19f-e47a-4833-acec-41c08d891a64",
   "metadata": {},
   "outputs": [],
   "source": [
    "with plt.ioff():\n",
    "    fig, axes = plt.subplots(ncols=2, nrows=2, figsize=(9, 8))\n",
    "\n",
    "images = [\n",
    "            ax.imshow(data[0], origin=\"lower\", aspect=\"auto\")\n",
    "            for ax in axes.ravel()\n",
    "        ]\n",
    "\n",
    "sl = ipw.IntSlider(min=0, max=data.shape[0] - 1, layout={\"width\": \"700px\"})\n",
    "\n",
    "def update(change):\n",
    "    for im in images:\n",
    "        im.set_data(data[change[\"new\"]])\n",
    "\n",
    "sl.observe(update, names='value')\n",
    "\n",
    "ipw.VBox([fig.canvas, sl])"
   ]
  }
 ],
 "metadata": {
  "kernelspec": {
   "display_name": "Python 3 (ipykernel)",
   "language": "python",
   "name": "python3"
  },
  "language_info": {
   "codemirror_mode": {
    "name": "ipython",
    "version": 3
   },
   "file_extension": ".py",
   "mimetype": "text/x-python",
   "name": "python",
   "nbconvert_exporter": "python",
   "pygments_lexer": "ipython3",
   "version": "3.11.9"
  }
 },
 "nbformat": 4,
 "nbformat_minor": 5
}
